{
 "cells": [
  {
   "cell_type": "code",
   "execution_count": 6,
   "id": "8478aa81",
   "metadata": {},
   "outputs": [
    {
     "name": "stdout",
     "output_type": "stream",
     "text": [
      "Requirement already satisfied: opencv-python in c:\\programdata\\anaconda3\\lib\\site-packages (4.6.0.66)\n",
      "Requirement already satisfied: numpy>=1.14.5 in c:\\programdata\\anaconda3\\lib\\site-packages (from opencv-python) (1.20.3)\n"
     ]
    }
   ],
   "source": [
    "! pip install opencv-python"
   ]
  },
  {
   "cell_type": "code",
   "execution_count": 7,
   "id": "4c0d59f5",
   "metadata": {},
   "outputs": [
    {
     "name": "stdout",
     "output_type": "stream",
     "text": [
      "Requirement already satisfied: cmake in c:\\programdata\\anaconda3\\lib\\site-packages (3.25.0)\n",
      "Note: you may need to restart the kernel to use updated packages.\n"
     ]
    }
   ],
   "source": [
    "pip install cmake"
   ]
  },
  {
   "cell_type": "code",
   "execution_count": 8,
   "id": "893ffc1e",
   "metadata": {},
   "outputs": [
    {
     "name": "stdout",
     "output_type": "stream",
     "text": [
      "Processing c:\\users\\lenovo\\downloads\\dlib-19.22.99-cp39-cp39-win_amd64.whl\n",
      "dlib is already installed with the same version as the provided wheel. Use --force-reinstall to force an installation of the wheel.\n",
      "Note: you may need to restart the kernel to use updated packages.\n"
     ]
    }
   ],
   "source": [
    "pip install \"C:\\Users\\LENOVO\\Downloads\\dlib-19.22.99-cp39-cp39-win_amd64.whl\""
   ]
  },
  {
   "cell_type": "code",
   "execution_count": 12,
   "id": "64cf7c91",
   "metadata": {},
   "outputs": [
    {
     "name": "stdout",
     "output_type": "stream",
     "text": [
      "Note: you may need to restart the kernel to use updated packages.\n"
     ]
    },
    {
     "name": "stderr",
     "output_type": "stream",
     "text": [
      "ERROR: Could not find a version that satisfies the requirement face_recongnition (from versions: none)\n",
      "ERROR: No matching distribution found for face_recongnition\n"
     ]
    }
   ],
   "source": [
    "pip install face_recongnition"
   ]
  },
  {
   "cell_type": "code",
   "execution_count": 5,
   "id": "cc0d29a6",
   "metadata": {},
   "outputs": [
    {
     "name": "stdout",
     "output_type": "stream",
     "text": [
      "['Chandler', 'Joey', 'Monica', 'Phoebe', 'Rachel', 'Ross']\n"
     ]
    }
   ],
   "source": [
    "import face_recognition as fr\n",
    "import cv2\n",
    "import numpy as np\n",
    "import os\n",
    "\n",
    "path = \"C:/Users/LENOVO/Desktop/face-recognition-python-code/train/\"\n",
    "\n",
    "known_names = []\n",
    "known_name_encodings = []\n",
    "\n",
    "images = os.listdir(path)\n",
    "for _ in images:\n",
    "    image = fr.load_image_file(path + _)\n",
    "    image_path = path + _\n",
    "    encoding = fr.face_encodings(image)[0]\n",
    "\n",
    "    known_name_encodings.append(encoding)\n",
    "    known_names.append(os.path.splitext(os.path.basename(image_path))[0].capitalize())\n",
    "\n",
    "print(known_names)\n",
    "\n",
    "test_image = \"C:/Users/LENOVO/Desktop/face-recognition-python-code/test/test.jpg\"\n",
    "image = cv2.imread(test_image)\n",
    "# image = cv2.cvtColor(image, cv2.COLOR_BGR2RGB)\n",
    "\n",
    "face_locations = fr.face_locations(image)\n",
    "face_encodings = fr.face_encodings(image, face_locations)\n",
    "\n",
    "for (top, right, bottom, left), face_encoding in zip(face_locations, face_encodings):\n",
    "    matches = fr.compare_faces(known_name_encodings, face_encoding)\n",
    "    name = \"\"\n",
    "\n",
    "    face_distances = fr.face_distance(known_name_encodings, face_encoding)\n",
    "    best_match = np.argmin(face_distances)\n",
    "\n",
    "    if matches[best_match]:\n",
    "        name = known_names[best_match]\n",
    "\n",
    "    cv2.rectangle(image, (left, top), (right, bottom), (0, 0, 255), 2)\n",
    "    cv2.rectangle(image, (left, bottom - 15), (right, bottom), (0, 0, 255), cv2.FILLED)\n",
    "    font = cv2.FONT_HERSHEY_DUPLEX\n",
    "    cv2.putText(image, name, (left + 6, bottom - 6), font, 1.0, (255, 255, 255), 1)\n",
    "\n",
    "\n",
    "cv2.imshow(\"Result\", image)\n",
    "cv2.imwrite(\"./output.jpg\", image)\n",
    "cv2.waitKey(0)\n",
    "cv2.destroyAllWindows()\n"
   ]
  },
  {
   "cell_type": "code",
   "execution_count": null,
   "id": "5e682b3b",
   "metadata": {},
   "outputs": [],
   "source": [
    "import cv2\n",
    "import numpy as np\n",
    "\n",
    "capture = cv2.VideoCapture(0) #to open Camera\n",
    "\n",
    "#accessing pretrained model\n",
    "pretrained_model = cv2.CascadeClassifier(\"C:\\\\Users\\\\LENOVO\\\\Downloads\\\\tgmt\\\\face_detector.xml\") \n",
    "\n",
    "while True:\n",
    "    boolean, frame = capture.read()\n",
    "    if boolean == True:\n",
    "        gray = cv2.cvtColor(frame, cv2.COLOR_BGR2GRAY)\n",
    "        coordinate_list = pretrained_model.detectMultiScale(gray, scaleFactor=1.1, minNeighbors=3) \n",
    "        \n",
    "        # drawing rectangle in frame\n",
    "        for (x,y,w,h) in coordinate_list:\n",
    "            cv2.rectangle(frame, (x,y), (x+w, y+h), (0,255,0), 2)\n",
    "            \n",
    "        # Display detected face\n",
    "        cv2.imshow(\"Live Face Detection\", frame)\n",
    "        \n",
    "        # condition to break out of while loop\n",
    "        if cv2.waitKey(20) == ord('x'):\n",
    "            break\n",
    "        \n",
    "capture.release()\n",
    "cv2.destroyAllWindows()"
   ]
  },
  {
   "cell_type": "code",
   "execution_count": null,
   "id": "6b26fc04",
   "metadata": {},
   "outputs": [],
   "source": []
  }
 ],
 "metadata": {
  "kernelspec": {
   "display_name": "Python 3 (ipykernel)",
   "language": "python",
   "name": "python3"
  },
  "language_info": {
   "codemirror_mode": {
    "name": "ipython",
    "version": 3
   },
   "file_extension": ".py",
   "mimetype": "text/x-python",
   "name": "python",
   "nbconvert_exporter": "python",
   "pygments_lexer": "ipython3",
   "version": "3.9.7"
  }
 },
 "nbformat": 4,
 "nbformat_minor": 5
}
